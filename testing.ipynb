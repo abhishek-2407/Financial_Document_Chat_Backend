{
 "cells": [
  {
   "cell_type": "code",
   "execution_count": 5,
   "metadata": {},
   "outputs": [],
   "source": [
    "from functions.router_llm_call import get_router_response\n"
   ]
  },
  {
   "cell_type": "code",
   "execution_count": 6,
   "metadata": {},
   "outputs": [
    {
     "name": "stdout",
     "output_type": "stream",
     "text": [
      "[ {\"agent\" : \"revenue_analyst\", \"prompt\" : \"Provide detailed revenue analysis, including segments, trends, and forecasting.\"}, {\"agent\" : \"summary_agent\", \"prompt\" : \"Summarize the financial document.\"} ]\n"
     ]
    }
   ],
   "source": [
    "print(get_router_response(\"provide me detailed revenue and summary of the docuemnt\"))"
   ]
  },
  {
   "cell_type": "code",
   "execution_count": 1,
   "metadata": {},
   "outputs": [],
   "source": [
    "from knowledge_base.local_rag_functions import check_and_create_collection\n",
    "\n"
   ]
  },
  {
   "cell_type": "code",
   "execution_count": 2,
   "metadata": {},
   "outputs": [],
   "source": [
    "a = check_and_create_collection(\"document_collection\")"
   ]
  },
  {
   "cell_type": "code",
   "execution_count": 1,
   "metadata": {},
   "outputs": [],
   "source": [
    "from functions.doc_summarizer import summarize_document\n",
    "\n"
   ]
  },
  {
   "cell_type": "code",
   "execution_count": null,
   "metadata": {},
   "outputs": [],
   "source": [
    "summary_with_progress = await summarize_document(\n",
    "        thread_id=\"testing\", \n",
    "        file_id_list=[\"9111a5d3-240e-4327-966e-eb3c51364f65\"],\n",
    "        max_pages=10  # Optional limit\n",
    "    )\n",
    "print(summary_with_progress)"
   ]
  },
  {
   "cell_type": "code",
   "execution_count": 3,
   "metadata": {},
   "outputs": [],
   "source": [
    "from weasyprint import HTML, CSS\n",
    "import markdown"
   ]
  },
  {
   "cell_type": "code",
   "execution_count": 6,
   "metadata": {},
   "outputs": [],
   "source": [
    "def markdown_to_pdf_method3(markdown_text, output_path):\n",
    "    \"\"\"\n",
    "    Convert markdown to PDF using weasyprint\n",
    "    Requires: pip install weasyprint markdown\n",
    "    \"\"\"\n",
    "    # Convert markdown to HTML\n",
    "    html_content = markdown.markdown(markdown_text, extensions=['tables', 'fenced_code'])\n",
    "    \n",
    "    # Add CSS styling\n",
    "    styled_html = f\"\"\"\n",
    "    <!DOCTYPE html>\n",
    "    <html>\n",
    "    <head>\n",
    "        <meta charset=\"UTF-8\">\n",
    "        <style>\n",
    "            @page {{\n",
    "                size: A4;\n",
    "                margin: 2cm;\n",
    "            }}\n",
    "            body {{\n",
    "                font-family: 'DejaVu Sans', Arial, sans-serif;\n",
    "                line-height: 1.6;\n",
    "                color: #333;\n",
    "            }}\n",
    "            h1, h2, h3, h4, h5, h6 {{\n",
    "                color: #2c3e50;\n",
    "                margin-top: 1.5em;\n",
    "                margin-bottom: 0.5em;\n",
    "            }}\n",
    "            code {{\n",
    "                background-color: #f8f8f8;\n",
    "                padding: 2px 4px;\n",
    "                border-radius: 3px;\n",
    "                font-family: 'Courier New', monospace;\n",
    "                font-size: 0.6em;\n",
    "            }}\n",
    "            pre {{\n",
    "                background-color: #f8f8f8;\n",
    "                padding: 15px;\n",
    "                border-radius: 5px;\n",
    "                overflow-x: auto;\n",
    "                border-left: 4px solid #3498db;\n",
    "            }}\n",
    "            blockquote {{\n",
    "                border-left: 4px solid #bdc3c7;\n",
    "                margin-left: 0;\n",
    "                padding-left: 15px;\n",
    "                color: #7f8c8d;\n",
    "            }}\n",
    "            table {{\n",
    "                border-collapse: collapse;\n",
    "                width: 100%;\n",
    "                margin: 1em 0;\n",
    "            }}\n",
    "            th, td {{\n",
    "                border: 1px solid #ddd;\n",
    "                padding: 8px;\n",
    "                text-align: left;\n",
    "            }}\n",
    "            th {{\n",
    "                background-color: #f2f2f2;\n",
    "                font-weight: bold;\n",
    "            }}\n",
    "            ul, ol {{\n",
    "                margin: 1em 0;\n",
    "                padding-left: 2em;\n",
    "            }}\n",
    "        </style>\n",
    "    </head>\n",
    "    <body>\n",
    "        {html_content}\n",
    "    </body>\n",
    "    </html>\n",
    "    \"\"\"\n",
    "    \n",
    "    # Convert to PDF\n",
    "    HTML(string=styled_html).write_pdf(output_path)\n",
    "    print(f\"PDF saved to: {output_path}\")\n"
   ]
  },
  {
   "cell_type": "code",
   "execution_count": 7,
   "metadata": {},
   "outputs": [
    {
     "name": "stderr",
     "output_type": "stream",
     "text": [
      "WARNING:weasyprint:Ignored `overflow-x: auto` at 27:17, unknown property.\n"
     ]
    },
    {
     "name": "stdout",
     "output_type": "stream",
     "text": [
      "PDF saved to: output_method3.pdf\n"
     ]
    }
   ],
   "source": [
    "try:\n",
    "    markdown_to_pdf_method3(summary_with_progress, \"output_method3.pdf\")\n",
    "except Exception as e:\n",
    "    print(f\"Method 3 failed: {e}\")"
   ]
  },
  {
   "cell_type": "code",
   "execution_count": null,
   "metadata": {},
   "outputs": [],
   "source": []
  }
 ],
 "metadata": {
  "kernelspec": {
   "display_name": "vnvv",
   "language": "python",
   "name": "python3"
  },
  "language_info": {
   "codemirror_mode": {
    "name": "ipython",
    "version": 3
   },
   "file_extension": ".py",
   "mimetype": "text/x-python",
   "name": "python",
   "nbconvert_exporter": "python",
   "pygments_lexer": "ipython3",
   "version": "3.13.3"
  }
 },
 "nbformat": 4,
 "nbformat_minor": 2
}
